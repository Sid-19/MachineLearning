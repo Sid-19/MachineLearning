{
 "cells": [
  {
   "cell_type": "code",
   "execution_count": 72,
   "metadata": {},
   "outputs": [
    {
     "data": {
      "text/html": [
       "<div>\n",
       "<style scoped>\n",
       "    .dataframe tbody tr th:only-of-type {\n",
       "        vertical-align: middle;\n",
       "    }\n",
       "\n",
       "    .dataframe tbody tr th {\n",
       "        vertical-align: top;\n",
       "    }\n",
       "\n",
       "    .dataframe thead th {\n",
       "        text-align: right;\n",
       "    }\n",
       "</style>\n",
       "<table border=\"1\" class=\"dataframe\">\n",
       "  <thead>\n",
       "    <tr style=\"text-align: right;\">\n",
       "      <th></th>\n",
       "      <th>A</th>\n",
       "      <th>B</th>\n",
       "    </tr>\n",
       "  </thead>\n",
       "  <tbody>\n",
       "    <tr>\n",
       "      <th>0</th>\n",
       "      <td>1</td>\n",
       "      <td>2</td>\n",
       "    </tr>\n",
       "    <tr>\n",
       "      <th>1</th>\n",
       "      <td>4</td>\n",
       "      <td>5</td>\n",
       "    </tr>\n",
       "  </tbody>\n",
       "</table>\n",
       "</div>"
      ],
      "text/plain": [
       "   A  B\n",
       "0  1  2\n",
       "1  4  5"
      ]
     },
     "execution_count": 72,
     "metadata": {},
     "output_type": "execute_result"
    }
   ],
   "source": [
    "import pandas as pd\n",
    "\n",
    "df = pd.DataFrame([[1,2],[4,5]],columns=['A','B'])\n",
    "df\n",
    "df.iloc[:,0:]\n"
   ]
  },
  {
   "cell_type": "code",
   "execution_count": null,
   "metadata": {},
   "outputs": [],
   "source": [
    "#The first coloumn is called index\n",
    "df.index.to_list()\n",
    "\n",
    "#to get info about dataframe\n",
    "df.info()"
   ]
  },
  {
   "cell_type": "code",
   "execution_count": 73,
   "metadata": {},
   "outputs": [],
   "source": [
    "#loading data from url and using parquet as file size is small\n",
    "df_parquet = pd.read_parquet('results.parquet')\n",
    "df_parquet.head(5)\n",
    "\n",
    "#To save to different formats \n",
    "\n",
    "# df.to_csv()\n",
    "df_parquet.to_csv('results.csv')"
   ]
  },
  {
   "cell_type": "code",
   "execution_count": null,
   "metadata": {},
   "outputs": [],
   "source": [
    "poke = pd.read_csv('pokemon_data.csv')\n",
    "\n",
    "display(poke)\n",
    "# To get info about dataframe\n",
    "poke.info()\n",
    "\n",
    "#To get statistical info about dataframe\n",
    "poke.describe()"
   ]
  },
  {
   "cell_type": "code",
   "execution_count": null,
   "metadata": {},
   "outputs": [],
   "source": [
    "#Read headers\n",
    "poke.columns\n",
    "\n",
    "#read each column\n",
    "poke[['Name','HP']][0:6]\n",
    "\n",
    "#read each row\n",
    "poke.iloc[1]\n",
    "\n",
    "#read a specific location R,C\n",
    "poke.iloc[2,1]\n",
    "#or\n",
    "\n",
    "for  index, row in poke.iterrows():\n",
    "    print(index,row['Name'])\n",
    "\n",
    "#Based on textual information\n",
    "poke.loc[poke[\"Type 2\"] == \"Poison\"]\n",
    "\n",
    "poke.describe()\n",
    "\n"
   ]
  },
  {
   "cell_type": "code",
   "execution_count": null,
   "metadata": {},
   "outputs": [],
   "source": [
    "#sorting\n",
    "poke.sort_values('Name')\n",
    "\n",
    "# #Delete \n",
    "# del poke[\"Type 1\"]\n",
    "# poke.head(5)"
   ]
  },
  {
   "cell_type": "markdown",
   "metadata": {},
   "source": [
    "## Bios"
   ]
  },
  {
   "cell_type": "code",
   "execution_count": 89,
   "metadata": {},
   "outputs": [
    {
     "data": {
      "text/html": [
       "<div>\n",
       "<style scoped>\n",
       "    .dataframe tbody tr th:only-of-type {\n",
       "        vertical-align: middle;\n",
       "    }\n",
       "\n",
       "    .dataframe tbody tr th {\n",
       "        vertical-align: top;\n",
       "    }\n",
       "\n",
       "    .dataframe thead th {\n",
       "        text-align: right;\n",
       "    }\n",
       "</style>\n",
       "<table border=\"1\" class=\"dataframe\">\n",
       "  <thead>\n",
       "    <tr style=\"text-align: right;\">\n",
       "      <th></th>\n",
       "      <th>discipline</th>\n",
       "      <th>year</th>\n",
       "    </tr>\n",
       "  </thead>\n",
       "  <tbody>\n",
       "    <tr>\n",
       "      <th>173195</th>\n",
       "      <td>Speed Skating (Skating)</td>\n",
       "      <td>2022.0</td>\n",
       "    </tr>\n",
       "    <tr>\n",
       "      <th>173196</th>\n",
       "      <td>Speed Skating (Skating)</td>\n",
       "      <td>2022.0</td>\n",
       "    </tr>\n",
       "    <tr>\n",
       "      <th>213793</th>\n",
       "      <td>Alpine Skiing (Skiing)</td>\n",
       "      <td>2022.0</td>\n",
       "    </tr>\n",
       "    <tr>\n",
       "      <th>213794</th>\n",
       "      <td>Alpine Skiing (Skiing)</td>\n",
       "      <td>2022.0</td>\n",
       "    </tr>\n",
       "    <tr>\n",
       "      <th>215139</th>\n",
       "      <td>Ski Jumping (Skiing)</td>\n",
       "      <td>2022.0</td>\n",
       "    </tr>\n",
       "    <tr>\n",
       "      <th>...</th>\n",
       "      <td>...</td>\n",
       "      <td>...</td>\n",
       "    </tr>\n",
       "    <tr>\n",
       "      <th>308403</th>\n",
       "      <td>Luge</td>\n",
       "      <td>2022.0</td>\n",
       "    </tr>\n",
       "    <tr>\n",
       "      <th>308404</th>\n",
       "      <td>Alpine Skiing (Skiing)</td>\n",
       "      <td>2022.0</td>\n",
       "    </tr>\n",
       "    <tr>\n",
       "      <th>308405</th>\n",
       "      <td>Alpine Skiing (Skiing)</td>\n",
       "      <td>2022.0</td>\n",
       "    </tr>\n",
       "    <tr>\n",
       "      <th>308406</th>\n",
       "      <td>Alpine Skiing (Skiing)</td>\n",
       "      <td>2022.0</td>\n",
       "    </tr>\n",
       "    <tr>\n",
       "      <th>308407</th>\n",
       "      <td>None</td>\n",
       "      <td>2022.0</td>\n",
       "    </tr>\n",
       "  </tbody>\n",
       "</table>\n",
       "<p>4744 rows × 2 columns</p>\n",
       "</div>"
      ],
      "text/plain": [
       "                     discipline    year\n",
       "173195  Speed Skating (Skating)  2022.0\n",
       "173196  Speed Skating (Skating)  2022.0\n",
       "213793   Alpine Skiing (Skiing)  2022.0\n",
       "213794   Alpine Skiing (Skiing)  2022.0\n",
       "215139     Ski Jumping (Skiing)  2022.0\n",
       "...                         ...     ...\n",
       "308403                     Luge  2022.0\n",
       "308404   Alpine Skiing (Skiing)  2022.0\n",
       "308405   Alpine Skiing (Skiing)  2022.0\n",
       "308406   Alpine Skiing (Skiing)  2022.0\n",
       "308407                     None  2022.0\n",
       "\n",
       "[4744 rows x 2 columns]"
      ]
     },
     "execution_count": 89,
     "metadata": {},
     "output_type": "execute_result"
    }
   ],
   "source": [
    "df_parquet[df_parquet['year']>2020][['discipline','year']]"
   ]
  },
  {
   "cell_type": "markdown",
   "metadata": {},
   "source": []
  }
 ],
 "metadata": {
  "kernelspec": {
   "display_name": "Python 3",
   "language": "python",
   "name": "python3"
  },
  "language_info": {
   "codemirror_mode": {
    "name": "ipython",
    "version": 3
   },
   "file_extension": ".py",
   "mimetype": "text/x-python",
   "name": "python",
   "nbconvert_exporter": "python",
   "pygments_lexer": "ipython3",
   "version": "3.10.0"
  }
 },
 "nbformat": 4,
 "nbformat_minor": 2
}
